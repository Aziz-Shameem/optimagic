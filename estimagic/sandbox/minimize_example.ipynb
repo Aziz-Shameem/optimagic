{
 "cells": [
  {
   "cell_type": "code",
   "execution_count": 1,
   "metadata": {},
   "outputs": [
    {
     "data": {
      "text/html": [
       "<div>\n",
       "<style scoped>\n",
       "    .dataframe tbody tr th:only-of-type {\n",
       "        vertical-align: middle;\n",
       "    }\n",
       "\n",
       "    .dataframe tbody tr th {\n",
       "        vertical-align: top;\n",
       "    }\n",
       "\n",
       "    .dataframe thead th {\n",
       "        text-align: right;\n",
       "    }\n",
       "</style>\n",
       "<table border=\"1\" class=\"dataframe\">\n",
       "  <thead>\n",
       "    <tr style=\"text-align: right;\">\n",
       "      <th></th>\n",
       "      <th>value</th>\n",
       "      <th>fixed</th>\n",
       "      <th>lower</th>\n",
       "      <th>upper</th>\n",
       "    </tr>\n",
       "  </thead>\n",
       "  <tbody>\n",
       "    <tr>\n",
       "      <th>0</th>\n",
       "      <td>1.3</td>\n",
       "      <td>False</td>\n",
       "      <td>-1</td>\n",
       "      <td>5</td>\n",
       "    </tr>\n",
       "    <tr>\n",
       "      <th>1</th>\n",
       "      <td>0.7</td>\n",
       "      <td>False</td>\n",
       "      <td>-1</td>\n",
       "      <td>5</td>\n",
       "    </tr>\n",
       "    <tr>\n",
       "      <th>2</th>\n",
       "      <td>1.0</td>\n",
       "      <td>True</td>\n",
       "      <td>-1</td>\n",
       "      <td>5</td>\n",
       "    </tr>\n",
       "    <tr>\n",
       "      <th>3</th>\n",
       "      <td>1.9</td>\n",
       "      <td>False</td>\n",
       "      <td>-1</td>\n",
       "      <td>5</td>\n",
       "    </tr>\n",
       "    <tr>\n",
       "      <th>4</th>\n",
       "      <td>1.2</td>\n",
       "      <td>False</td>\n",
       "      <td>-1</td>\n",
       "      <td>5</td>\n",
       "    </tr>\n",
       "  </tbody>\n",
       "</table>\n",
       "</div>"
      ],
      "text/plain": [
       "   value  fixed  lower  upper\n",
       "0    1.3  False     -1      5\n",
       "1    0.7  False     -1      5\n",
       "2    1.0   True     -1      5\n",
       "3    1.9  False     -1      5\n",
       "4    1.2  False     -1      5"
      ]
     },
     "execution_count": 1,
     "metadata": {},
     "output_type": "execute_result"
    }
   ],
   "source": [
    "import numpy as np\n",
    "import pandas as pd\n",
    "import sys\n",
    "sys.path.append('/home/janos/Dropbox/Projects/estimagic')\n",
    "from estimagic.optimization.optimize import minimize\n",
    "\n",
    "\n",
    "def rosen(x):\n",
    "    \"\"\"The Rosenbrock function\n",
    "    \n",
    "    Args:\n",
    "        x (pd.Series): Series with the parameters.\n",
    "    \n",
    "    \"\"\"\n",
    "\n",
    "    return np_rosen(x.to_numpy())\n",
    "\n",
    "\n",
    "def np_rosen(x):\n",
    "    \n",
    "    return sum(100.0*(x[1:] - x[:-1]**2.0)**2.0 + (1 - x[:-1])**2.0)\n",
    "\n",
    "params = pd.DataFrame()\n",
    "params['value'] = np.array([1.3, 0.7, 1.0, 1.9, 1.2])\n",
    "params['fixed'] = [False, False, True, False, False]\n",
    "params['lower'] = [-1, -1, -1, -1, -1]\n",
    "params['upper'] = [5, 5, 5, 5, 5]\n",
    "params\n",
    "\n"
   ]
  },
  {
   "cell_type": "code",
   "execution_count": 2,
   "metadata": {
    "scrolled": false
   },
   "outputs": [
    {
     "data": {
      "text/plain": [
       "Problem name: <class 'estimagic.optimization.optimize._create_problem.<locals>.Problem'>\n",
       "\tGlobal dimension:\t\t\t4\n",
       "\tInteger dimension:\t\t\t0\n",
       "\tFitness dimension:\t\t\t1\n",
       "\tNumber of objectives:\t\t\t1\n",
       "\tEquality constraints dimension:\t\t0\n",
       "\tInequality constraints dimension:\t0\n",
       "\tLower bounds: [-1, -1, -1, -1]\n",
       "\tUpper bounds: [5, 5, 5, 5]\n",
       "\n",
       "\tHas gradient: false\n",
       "\tUser implemented gradient sparsity: false\n",
       "\tHas hessians: false\n",
       "\tUser implemented hessians sparsity: false\n",
       "\n",
       "\tFitness evaluations: 346\n",
       "\n",
       "\tThread safety: none\n",
       "\n",
       "Population size: 1\n",
       "\n",
       "List of individuals: \n",
       "#0:\n",
       "\tID:\t\t\t18029515857959904610\n",
       "\tDecision vector:\t[1, 1, 1, 1]\n",
       "\tFitness vector:\t\t[3.64646e-15]\n",
       "\n",
       "Champion decision vector: [1, 1, 1, 1]\n",
       "Champion fitness: [3.64646e-15]"
      ]
     },
     "execution_count": 2,
     "metadata": {},
     "output_type": "execute_result"
    }
   ],
   "source": [
    "minimize(rosen, params, 'nlopt_neldermead')"
   ]
  }
 ],
 "metadata": {
  "kernelspec": {
   "display_name": "Python [conda env:estimagic]",
   "language": "python",
   "name": "conda-env-estimagic-py"
  },
  "language_info": {
   "codemirror_mode": {
    "name": "ipython",
    "version": 3
   },
   "file_extension": ".py",
   "mimetype": "text/x-python",
   "name": "python",
   "nbconvert_exporter": "python",
   "pygments_lexer": "ipython3",
   "version": "3.7.3"
  }
 },
 "nbformat": 4,
 "nbformat_minor": 2
}
